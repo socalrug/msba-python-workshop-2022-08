{
 "cells": [
  {
   "cell_type": "markdown",
   "metadata": {},
   "source": [
    "# Setup for the Workshop\n",
    "\n",
    "## Download the Repository\n",
    "\n",
    "go to the workshop [repo](https://github.com/socalrug/msba-python-workshop-2023-08/tree/main)\n"
   ]
  },
  {
   "cell_type": "code",
   "execution_count": null,
   "metadata": {},
   "outputs": [],
   "source": [
    "import sys\n",
    "print(sys.version)"
   ]
  },
  {
   "cell_type": "markdown",
   "metadata": {},
   "source": [
    "## Download the folder and use VS Code to select it"
   ]
  },
  {
   "cell_type": "markdown",
   "metadata": {},
   "source": [
    "![](download_repo.png)"
   ]
  },
  {
   "cell_type": "markdown",
   "metadata": {},
   "source": [
    "* Once the Repo has been downloaded you will need to unzip it. \n",
    "* After the folder (Repo) has been unzipped got to VS Code and select `Open Folder` and select it\n",
    "\n",
    "![](Open_folder.png)\n"
   ]
  },
  {
   "cell_type": "markdown",
   "metadata": {},
   "source": [
    "Once you have opened the folderyou should see its contents to the left\n",
    "\n",
    "![](folder_structure.png)"
   ]
  },
  {
   "cell_type": "markdown",
   "metadata": {},
   "source": [
    "Seelect the 01_Lecture... file and slect a Kernel. (Any python version 3.XXX should work)\n",
    "\n",
    "![](select_kernel.png)"
   ]
  },
  {
   "cell_type": "markdown",
   "metadata": {},
   "source": [
    "## Python packages\n",
    "Install the following packages by running the following commands\n",
    "- `pip install --upgrade pip`  \n",
    "- `pip install jupyterlab`   \n",
    "- `pip install pandas`  "
   ]
  },
  {
   "cell_type": "code",
   "execution_count": null,
   "metadata": {},
   "outputs": [],
   "source": [
    "pip install --upgrade pip"
   ]
  },
  {
   "cell_type": "code",
   "execution_count": null,
   "metadata": {},
   "outputs": [],
   "source": [
    "pip install jupyterlab"
   ]
  },
  {
   "cell_type": "code",
   "execution_count": null,
   "metadata": {},
   "outputs": [],
   "source": [
    "pip install pandas"
   ]
  }
 ],
 "metadata": {
  "kernelspec": {
   "display_name": "Python 3",
   "language": "python",
   "name": "python3"
  },
  "language_info": {
   "codemirror_mode": {
    "name": "ipython",
    "version": 3
   },
   "file_extension": ".py",
   "mimetype": "text/x-python",
   "name": "python",
   "nbconvert_exporter": "python",
   "pygments_lexer": "ipython3",
   "version": "3.11.4"
  },
  "orig_nbformat": 4
 },
 "nbformat": 4,
 "nbformat_minor": 2
}
