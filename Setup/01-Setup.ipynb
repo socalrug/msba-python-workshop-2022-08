{
 "cells": [
  {
   "cell_type": "markdown",
   "metadata": {},
   "source": [
    "# Setup for the Workshop\n",
    "\n",
    "## Python\n",
    "python3 --version\n",
    "\n",
    "## VS Code\n",
    "\n",
    "## Extensions\n",
    "\n",
    "## Python packages\n",
    "pip `pip install --upgrade pip`\n",
    "jupyterlab `pip install jupyterlab` \n",
    "padas `pip install pandas` \n",
    "\n",
    "## Download the Repository\n",
    "\n",
    "\n",
    "\n",
    "\n",
    "\n",
    "## Browse the internet for help "
   ]
  }
 ],
 "metadata": {
  "language_info": {
   "name": "python"
  },
  "orig_nbformat": 4
 },
 "nbformat": 4,
 "nbformat_minor": 2
}
