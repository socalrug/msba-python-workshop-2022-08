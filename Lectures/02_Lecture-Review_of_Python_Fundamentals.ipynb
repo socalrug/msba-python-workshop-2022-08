{
 "cells": [
  {
   "cell_type": "markdown",
   "metadata": {},
   "source": [
    "# Review of Python Fundamentals\n"
   ]
  },
  {
   "cell_type": "markdown",
   "metadata": {},
   "source": [
    "## Module Overview\n",
    "\n",
    "Here are the topics we will go over in this section\n",
    "\n",
    "- Importance of spacing\n",
    "- Variables\n",
    "- Math operations\n",
    "- Operators & Comparison Operators\n",
    "- Data types (numbers, strings, boolean)\n",
    "- Lists\n",
    "- Tuples\n",
    "- Dictionaries\n"
   ]
  },
  {
   "cell_type": "markdown",
   "metadata": {},
   "source": [
    "## Importance of Spacing\n",
    "\n",
    "Statements indented at the same level are grouped together. You should only indent a line if it is followed by a conditional statement or begining of the logic of a loop. You will get an unexpected indent error if there is an empty space before a line, and it is not necessary to add whitespace to the line.\n"
   ]
  },
  {
   "cell_type": "code",
   "execution_count": null,
   "metadata": {},
   "outputs": [],
   "source": [
    "# The following will give you an unexpected indent error due to the space in the second line\n",
    "\n",
    "print(\"Next Monday is August\")\n",
    "print(\"Next Tuesday is August\")"
   ]
  },
  {
   "cell_type": "markdown",
   "metadata": {},
   "source": [
    "The example below shows the need of spacing after a conditional statement line. We will go over conditional statements in more details in another module\n"
   ]
  },
  {
   "cell_type": "code",
   "execution_count": null,
   "metadata": {},
   "outputs": [],
   "source": [
    "x = 11\n",
    "if x >= 10:\n",
    "    print(\"x is greater than or equal to 10\")\n",
    "else:\n",
    "    print(\"x is less than 10\")"
   ]
  },
  {
   "cell_type": "markdown",
   "metadata": {},
   "source": [
    "Note that if you right click a cell and select \"Format Cell\", VS Code will auto format/indent the code to adhere to python best practices (Pep8 style guide). This first needs to be configured to work, see here for more information (https://code.visualstudio.com/docs/python/editing#_formatting)\n"
   ]
  },
  {
   "cell_type": "markdown",
   "metadata": {},
   "source": [
    "## Variables\n",
    "\n",
    "A variable is created the moment you assign a value to it. It is not necessary to declare a variable and the type beforehand in Python unlike other programming languages such as Java and C.\n",
    "\n",
    "A variable name can only have alpha-numeric characters and underscores (A-z, 0-9, and \\_ ), and it is case sensitive. (Variables Ab = 2, ab = 2 are different)\n"
   ]
  },
  {
   "cell_type": "code",
   "execution_count": null,
   "metadata": {},
   "outputs": [],
   "source": [
    "# Create variable\n",
    "\n",
    "dd = \"lion\"\n",
    "e = 4"
   ]
  },
  {
   "cell_type": "code",
   "execution_count": null,
   "metadata": {},
   "outputs": [],
   "source": [
    "# Update variable value\n",
    "f = 5\n",
    "f = f + 2\n",
    "print(\"Updated variable value: \", f)"
   ]
  },
  {
   "cell_type": "code",
   "execution_count": null,
   "metadata": {},
   "outputs": [],
   "source": [
    "# It is possible to assign values to several variables in one line\n",
    "\n",
    "v, w, x = 4, 5, \"six\"\n",
    "print(\"Value of v: \", v)\n",
    "print(\"Value of w: \", w)\n",
    "print(\"Value of x: \", x)"
   ]
  },
  {
   "cell_type": "markdown",
   "metadata": {},
   "source": [
    "## Variables point to objects stored in memory\n"
   ]
  },
  {
   "cell_type": "markdown",
   "metadata": {},
   "source": [
    "### This could be a major source of bugs in code if one is not aware of this behavior\n"
   ]
  },
  {
   "cell_type": "code",
   "execution_count": null,
   "metadata": {},
   "outputs": [],
   "source": [
    "a = 3\n",
    "b = a\n",
    "print(f\"Value of a: {a}\")\n",
    "print(f\"Value of b: {b}\")\n",
    "a = 5\n",
    "print(f\"Value of a after reassigment of a: {a}\")\n",
    "print(f\"Value of b after reassignment of a: {b}\")"
   ]
  },
  {
   "cell_type": "code",
   "execution_count": null,
   "metadata": {},
   "outputs": [],
   "source": [
    "a = [1, 2, 3]\n",
    "b = a\n",
    "print(f\"Value of a: {a}\")\n",
    "print(f\"Value of b: {b}\")\n",
    "a.append(4)\n",
    "print(f\"Value of a after modification: {a}\")\n",
    "print(f\"Value of b after modification: {b}\")"
   ]
  },
  {
   "cell_type": "markdown",
   "metadata": {},
   "source": [
    "### To check the the memory location of an object, use the id() function. If two variables have the same ID, they point to the same object in memory\n"
   ]
  },
  {
   "cell_type": "code",
   "execution_count": null,
   "metadata": {},
   "outputs": [],
   "source": [
    "a = 3\n",
    "b = a\n",
    "print(f\"id(a): {id(a)}\")\n",
    "print(f\"id(b): {id(b)}\")\n",
    "a = 5\n",
    "print(f\"id(a) after reassignment of a: {id(a)}\")\n",
    "print(f\"id(b) after reassignment of a: {id(b)}\")"
   ]
  },
  {
   "cell_type": "markdown",
   "metadata": {},
   "source": [
    "## Common Math Operations\n"
   ]
  },
  {
   "cell_type": "code",
   "execution_count": null,
   "metadata": {},
   "outputs": [],
   "source": [
    "## Math Operations\n",
    "\n",
    "x = 25\n",
    "y = 7\n",
    "\n",
    "## Sum x+y\n",
    "\n",
    "print(\"x + y: \", x + y)\n",
    "\n",
    "## Difference x - y\n",
    "\n",
    "print(\"x - y: \", x - y)\n",
    "\n",
    "## Product of x and y\n",
    "\n",
    "print(\"x * y: \", x * y)\n",
    "\n",
    "## Quotient of x and y\n",
    "\n",
    "print(\"x / y: \", x / y)\n",
    "\n",
    "## Floored quotient of x and y\n",
    "\n",
    "print(\"x // y:\", x // y)\n",
    "\n",
    "## Remainder of x/y\n",
    "\n",
    "print(\"x % y\", x % y)"
   ]
  },
  {
   "cell_type": "markdown",
   "metadata": {},
   "source": [
    "### Operators\n"
   ]
  },
  {
   "cell_type": "markdown",
   "metadata": {},
   "source": [
    "These are equivalent assignment operators for updating a variable:\n",
    "<br>\n",
    "<br>`+=` ex. x+=1 is equal to x=x+1\n",
    "<br>`-=` ex. x-=1 is equal to x=x-1\n",
    "<br>`*=` ex. x*=1 is equal to x=x * 1\n",
    "<br>`/=` ex. x/=1 is equal to x=x/1\n",
    "<br>`%=` ex. x%=1 is equal to x=x%1\n",
    "<br>`//=` ex. x//=1 is equal to x=x//1\n"
   ]
  },
  {
   "cell_type": "markdown",
   "metadata": {},
   "source": [
    "### Comparison Operators\n"
   ]
  },
  {
   "cell_type": "markdown",
   "metadata": {},
   "source": [
    "Comparison operators are used to compare two variables. It returns `True` or `False`\n",
    "<br>\n",
    "<br>`==` ex. a==b Is a equal to b?\n",
    "<br>`!=` ex. a!=b Is a not equal to b?\n",
    "<br>`>` ex. a>b Is a greater than b?\n",
    "<br>`>=` ex. a>=b Is a greater than or equal to b?\n",
    "<br>`<` ex. a<b Is a less than b?\n",
    "<br>`<=` ex. a<b Is a less than or equal to b?\n",
    "\n",
    "Can incude multiple comparison operators by using the \"and\" or \"or\" keywords\n"
   ]
  },
  {
   "cell_type": "code",
   "execution_count": null,
   "metadata": {},
   "outputs": [],
   "source": [
    "a = 3\n",
    "b = 5\n",
    "a != b"
   ]
  },
  {
   "cell_type": "markdown",
   "metadata": {},
   "source": [
    "And will return true if both conditions evaluate to true\n"
   ]
  },
  {
   "cell_type": "code",
   "execution_count": null,
   "metadata": {},
   "outputs": [],
   "source": [
    "a = 3\n",
    "b = 4\n",
    "c = 3\n",
    "\n",
    "print(a != b and a == c)\n",
    "print(a != b and a != c)"
   ]
  },
  {
   "cell_type": "markdown",
   "metadata": {},
   "source": [
    "Or will return true if at least one of the conditions evaluate to true\n"
   ]
  },
  {
   "cell_type": "code",
   "execution_count": null,
   "metadata": {},
   "outputs": [],
   "source": [
    "print(a != b or a == c)\n",
    "print(a != b or a != c)"
   ]
  },
  {
   "cell_type": "markdown",
   "metadata": {},
   "source": [
    "## Data types\n",
    "\n",
    "Numbers, strings and booleans are three common data types in Python\n"
   ]
  },
  {
   "cell_type": "code",
   "execution_count": null,
   "metadata": {},
   "outputs": [],
   "source": [
    "# Numbers can be integers, floating point values or complex number\n",
    "\n",
    "# Integers\n",
    "a = 5\n",
    "\n",
    "# Floating point values\n",
    "b = 3.0\n",
    "\n",
    "# Complex number\n",
    "\n",
    "c = 2 + 3j"
   ]
  },
  {
   "cell_type": "code",
   "execution_count": null,
   "metadata": {},
   "outputs": [],
   "source": [
    "# Strings are characters enclosed between \"\", whitespace counts as a character in a string\n",
    "\n",
    "d = \"apple\"\n",
    "\n",
    "e = \"apple is delicious\""
   ]
  },
  {
   "cell_type": "code",
   "execution_count": null,
   "metadata": {},
   "outputs": [],
   "source": [
    "# You can access a particular character of a string using string1[index]\n",
    "\n",
    "d = \"apple\"\n",
    "d[3]"
   ]
  },
  {
   "cell_type": "code",
   "execution_count": null,
   "metadata": {},
   "outputs": [],
   "source": [
    "# Boolean represents True or False value. You can directly assign a variable True or False\n",
    "\n",
    "f = True\n",
    "\n",
    "g = False\n",
    "\n",
    "# Or you can assign a variable based on an expression\n",
    "\n",
    "h = 10 > 9\n",
    "\n",
    "print(\"Value of h:\", h)\n",
    "print(\"Type of h:\", type(h))"
   ]
  },
  {
   "cell_type": "markdown",
   "metadata": {},
   "source": [
    "## Lists\n",
    "\n",
    "A list is a type of data structure in python that is immutable (can be modified after initial declaration). The format of a list is items separated by a comma between square brackets. A list can be made of items from different data types such as integers, strings and lists. Here are some examples\n"
   ]
  },
  {
   "cell_type": "code",
   "execution_count": null,
   "metadata": {},
   "outputs": [],
   "source": [
    "# Here are some examples of lists\n",
    "\n",
    "list_1 = [0, 1, 2, 3, 4, 5, 6, 7, 8, 9, 10]\n",
    "list_2 = [\"grapefruit\", \"apple\", \"orange\", \"banana\"]\n",
    "list_3 = [[1, 2, 3], [4, 5, 6], [7, 8, 9]]\n",
    "list_4 = [5, 2, 3, 9]\n",
    "# This is how you create an empty list\n",
    "\n",
    "list_5 = []"
   ]
  },
  {
   "cell_type": "code",
   "execution_count": null,
   "metadata": {},
   "outputs": [],
   "source": [
    "### Accessing items in the  Lists\n",
    "print(\"list_1[3]: \", list_1[3])\n",
    "print(\"list_1[4:8]: \", list_1[4:8])"
   ]
  },
  {
   "cell_type": "code",
   "execution_count": null,
   "metadata": {},
   "outputs": [],
   "source": [
    "print(\"list_2[-3]: \", list_2[-3])\n",
    "print(\"list_2[-3:]: \", list_2[-3:])"
   ]
  },
  {
   "cell_type": "code",
   "execution_count": null,
   "metadata": {},
   "outputs": [],
   "source": [
    "print(\"list_3[1][2]: \", list_3[1][2])"
   ]
  },
  {
   "cell_type": "code",
   "execution_count": null,
   "metadata": {},
   "outputs": [],
   "source": [
    "# Operations with Lists\n",
    "\n",
    "# Length of a list\n",
    "print(\"length of list_1: \", len(list_1))\n",
    "\n",
    "# Concatenate two lists\n",
    "\n",
    "print(\"[1,2,3]+[4,5,6]: \", [1, 2, 3] + [4, 5, 6])\n",
    "print(\"[]+[4,5,6]: \", [] + [4, 5, 6])\n",
    "\n",
    "# Max/Min of list\n",
    "\n",
    "print(\"max(list_1): \", max(list_1))\n",
    "print(\"min(list_1): \", min(list_1))\n",
    "\n",
    "# Sort\n",
    "list_4.sort()\n",
    "print(\"list_4 sorted\", list_4)\n",
    "\n",
    "# Append to list in place\n",
    "list_4.append(\"new value\")\n",
    "print(list_4)"
   ]
  },
  {
   "cell_type": "markdown",
   "metadata": {},
   "source": [
    "## Tuples\n",
    "\n",
    "Tuple is a collection of objects that is ordered and cannot be changed (immutable). A tuple contains the objects in parentheses `()` and effectively operate very similar to lists. If you know the data you intend to store in the tuple will not need to be modified, it can be beneficial to use a tuple as it is comparatively faster than lists. However, for general purposes, it is advisable to use lists over tuples.\n"
   ]
  },
  {
   "cell_type": "code",
   "execution_count": null,
   "metadata": {},
   "outputs": [],
   "source": [
    "# Here is an example of a tuple\n",
    "\n",
    "tuple1 = (\"a\", \"b\", \"c\", \"d\", \"e\")\n",
    "\n",
    "# You can access individual item in a tuple by the index\n",
    "\n",
    "print(\"tuple1[2]: \", tuple1[2])\n",
    "\n",
    "# You can get the length of a tuple\n",
    "\n",
    "print(\"length of tuple 1: \", len(tuple1))"
   ]
  },
  {
   "cell_type": "markdown",
   "metadata": {},
   "source": [
    "## Dictionaries\n"
   ]
  },
  {
   "cell_type": "markdown",
   "metadata": {},
   "source": [
    "A dictionary is a collection of objects with key and value that are mutable. Prior to python 3.6, they were unordered, but as of 3.6+, they are now ordered. A dictionary is created with curly brackets `{}`\n"
   ]
  },
  {
   "cell_type": "markdown",
   "metadata": {},
   "source": [
    "Here is an example of a dictionary. Suppose you want to create a dictionary that stores the information about a student such as his/her first name, his/her last name, grade in school and age.\n"
   ]
  },
  {
   "cell_type": "code",
   "execution_count": null,
   "metadata": {},
   "outputs": [],
   "source": [
    "student_dict = {\"first_name\": \"Tom\", \"last_name\": \"Jones\", \"grade\": 8, \"age\": 13}"
   ]
  },
  {
   "cell_type": "markdown",
   "metadata": {},
   "source": [
    "first_name, last_name, grade and age are the keys in this dictionary\n",
    "'Tom' and 'Jones' are the values corresponding to first_name and last_name.\n",
    "\n",
    "You can get the value of a specific key i.e. get the student's first name as follow:\n"
   ]
  },
  {
   "cell_type": "code",
   "execution_count": null,
   "metadata": {},
   "outputs": [],
   "source": [
    "print(\"The value of first name is \", student_dict[\"first_name\"])\n",
    "print(\"The value of first name is \", student_dict.get(\"first_name\"))"
   ]
  },
  {
   "cell_type": "markdown",
   "metadata": {},
   "source": [
    "You can update the value of a key as follow:\n"
   ]
  },
  {
   "cell_type": "code",
   "execution_count": null,
   "metadata": {},
   "outputs": [],
   "source": [
    "student_dict[\"first_name\"] = \"Ken\"\n",
    "print(\"The value of first name is \", student_dict[\"first_name\"])"
   ]
  },
  {
   "cell_type": "markdown",
   "metadata": {},
   "source": [
    "You can add a new key as follow:\n"
   ]
  },
  {
   "cell_type": "code",
   "execution_count": null,
   "metadata": {},
   "outputs": [],
   "source": [
    "student_dict[\"school_name\"] = \"Chinook Middle School\"\n",
    "\n",
    "print(student_dict)"
   ]
  },
  {
   "cell_type": "markdown",
   "metadata": {},
   "source": [
    "You can remove a key as follow:\n"
   ]
  },
  {
   "cell_type": "code",
   "execution_count": null,
   "metadata": {},
   "outputs": [],
   "source": [
    "student_dict.pop(\"age\")\n",
    "print(student_dict)"
   ]
  },
  {
   "cell_type": "markdown",
   "metadata": {},
   "source": [
    "You can get a list (or more precicesly, a dict_keys object) of all the keys and values as follows (note that insertion order is preserved):\n"
   ]
  },
  {
   "cell_type": "code",
   "execution_count": null,
   "metadata": {},
   "outputs": [],
   "source": [
    "student_dict.keys()"
   ]
  },
  {
   "cell_type": "code",
   "execution_count": null,
   "metadata": {},
   "outputs": [],
   "source": [
    "student_dict.values()"
   ]
  },
  {
   "cell_type": "markdown",
   "metadata": {},
   "source": [
    "It's often useful to get both keys and values as a list of tuples to iterate over, can be done using the .items() method:\n"
   ]
  },
  {
   "cell_type": "code",
   "execution_count": null,
   "metadata": {},
   "outputs": [],
   "source": [
    "student_dict.items()"
   ]
  }
 ],
 "metadata": {
  "kernelspec": {
   "display_name": "Python 3",
   "language": "python",
   "name": "python3"
  },
  "language_info": {
   "codemirror_mode": {
    "name": "ipython",
    "version": 3
   },
   "file_extension": ".py",
   "mimetype": "text/x-python",
   "name": "python",
   "nbconvert_exporter": "python",
   "pygments_lexer": "ipython3",
   "version": "3.9.6"
  }
 },
 "nbformat": 4,
 "nbformat_minor": 4
}
