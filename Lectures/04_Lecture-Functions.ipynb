{
 "cells": [
  {
   "cell_type": "markdown",
   "metadata": {},
   "source": [
    "# Functions\n"
   ]
  },
  {
   "cell_type": "markdown",
   "metadata": {},
   "source": [
    "## Module Overview\n",
    "\n",
    "- What are they and why are they important\n",
    "- Function syntax\n",
    "- Tips and best practices\n"
   ]
  },
  {
   "cell_type": "markdown",
   "metadata": {},
   "source": [
    "### What is a Function?\n",
    "\n",
    "A function is a set of statements that will be executed when it is called, and parameters can be passed into it. It makes the code re-usable and also more easily readable. Functions are often used to \"abstract away\" complicated code into a single call to make code more readable and easier to understand. Here is an example of a function that lets you perform the math operation 2*x + 3*y on a set of an input x and y.\n"
   ]
  },
  {
   "cell_type": "code",
   "execution_count": null,
   "metadata": {},
   "outputs": [],
   "source": [
    "def math_ops(x, y):\n",
    "    return 2 * x + 3 * y"
   ]
  },
  {
   "cell_type": "code",
   "execution_count": null,
   "metadata": {},
   "outputs": [],
   "source": [
    "print(math_ops(1, 4))\n",
    "print(math_ops(2, 5))\n",
    "print(math_ops(3, 7))"
   ]
  },
  {
   "cell_type": "markdown",
   "metadata": {},
   "source": [
    "As you can see, you can perform the calculations several times without having to retype the expression every time you have a new set of inputs.\n"
   ]
  },
  {
   "cell_type": "markdown",
   "metadata": {},
   "source": [
    "## Function syntax\n",
    "\n",
    "Function takes the form:\n",
    "\n",
    "<pre><code>\n",
    "def function_name(parameter(s)):\n",
    "    statement(s)\n",
    "</code></pre>\n",
    "\n",
    "Note on terminology: A parameter is the variable inside the parentheses in the function definition. An argument is the value passed to the function.\n",
    "\n",
    "You can pass in multiple arguments into the function. They must be separated by a comma. The same number of arguments in the function definition must be passed into the function when it is called. They also need to be in the same order as the definition.\n"
   ]
  },
  {
   "cell_type": "markdown",
   "metadata": {},
   "source": [
    "#### Arbitrary Arguments\n",
    "\n",
    "If you do not know how many arguments will be passed into the function, you can use `*` in the function definition\n"
   ]
  },
  {
   "cell_type": "markdown",
   "metadata": {},
   "source": [
    "For example, let's say you want to write a function that sums a sequence in integers together, but you do not know how many integers there are , you can do this.\n"
   ]
  },
  {
   "cell_type": "code",
   "execution_count": null,
   "metadata": {},
   "outputs": [],
   "source": [
    "# sum_integers_args.py\n",
    "def sum_ops(*args):\n",
    "    running_total = 0\n",
    "    for i in args:\n",
    "        running_total += i\n",
    "    return running_total\n",
    "\n",
    "\n",
    "print(sum_ops(9, 5, 4, 8, 7))"
   ]
  },
  {
   "cell_type": "markdown",
   "metadata": {},
   "source": [
    "You do not have to name your arbitrary argument args. You can name it something esle such as `*input`\n"
   ]
  },
  {
   "cell_type": "markdown",
   "metadata": {},
   "source": [
    "#### Keyword Arguments\n",
    "\n",
    "You can pass in the argument as key = value into the function. That way, the order of the arguments does not matter.\n"
   ]
  },
  {
   "cell_type": "code",
   "execution_count": null,
   "metadata": {},
   "outputs": [],
   "source": [
    "def math_ops(x, y):\n",
    "    return 2 * x + 3 * y\n",
    "\n",
    "\n",
    "math_ops(y=4, x=5)"
   ]
  },
  {
   "cell_type": "markdown",
   "metadata": {},
   "source": [
    "#### Arbitrary Keyword Arguments\n",
    "\n",
    "This is similar to arbitrary arguments. If you do not know how many keyword arguments will be passed into the function, you can add `**` before the keyword arguments in the function definition. The function will receive the arguments as a dictionary and can access the items accordingly.\n"
   ]
  },
  {
   "cell_type": "code",
   "execution_count": null,
   "metadata": {},
   "outputs": [],
   "source": [
    "def employee_info(**employee):\n",
    "    print(\n",
    "        \"The employee's last name is:\",\n",
    "        employee[\"last_name\"],\n",
    "        \"and his/her tenure is\",\n",
    "        employee[\"tenure\"],\n",
    "    )"
   ]
  },
  {
   "cell_type": "code",
   "execution_count": null,
   "metadata": {},
   "outputs": [],
   "source": [
    "employee_info(first_name=\"Bob\", last_name=\"Smith\", age=37, tenure=8)"
   ]
  },
  {
   "cell_type": "markdown",
   "metadata": {},
   "source": [
    "#### return\n",
    "\n",
    "The return statement is used to tell your function to return a value. Typically you will assign the result returned from the function to a variable. Note that a function is not required to return a value or take any inputs, and can also return multiple values. When not returnning any values, it is not required to include the return statement, but it is generally best practice to include it.\n"
   ]
  },
  {
   "cell_type": "code",
   "execution_count": null,
   "metadata": {},
   "outputs": [],
   "source": [
    "def math_ops(x, y):\n",
    "    return 2 * x + 3 * y\n",
    "\n",
    "\n",
    "result = math_ops(y=4, x=5)\n",
    "\n",
    "print(\"Vaule of result is :\", result)"
   ]
  },
  {
   "cell_type": "code",
   "execution_count": null,
   "metadata": {},
   "outputs": [],
   "source": [
    "def print_message():\n",
    "    print(\"This function does not take any inputs or return any values\")\n",
    "\n",
    "\n",
    "print_message()"
   ]
  },
  {
   "cell_type": "code",
   "execution_count": null,
   "metadata": {},
   "outputs": [],
   "source": [
    "def raise_to_2_and_3_power(x):\n",
    "    return x**2, x**3\n",
    "\n",
    "\n",
    "squared, cubed = raise_to_2_and_3_power(2)\n",
    "print(f\"The results are {squared} and {cubed}\")"
   ]
  },
  {
   "cell_type": "markdown",
   "metadata": {},
   "source": [
    "### Best Practices\n",
    "\n",
    "- Use functions whenever you have a block of code you expect to reuse repetitively\n",
    "- Keep the purpose of you function to handle one task\n",
    "- Keep the number of parameters for a function low so it is easy for you and other people looking at the code to know how many parameters are needed to pass in and in what order\n",
    "- Name the funcion something meaningful so it is easy to read and easy for end users to figure out the purpose. This goes for variables also. Follow the pep8 style guide (https://peps.python.org/pep-0008/)\n",
    "- Include a docstring that explains the inputs, outputs, and purpose of the function\n",
    "- If you really want to be fancy, include type hints to designate the type that the inputs and outputs are (https://docs.python.org/3/library/typing.html)\n"
   ]
  },
  {
   "cell_type": "code",
   "execution_count": 3,
   "metadata": {},
   "outputs": [
    {
     "data": {
      "text/plain": [
       "'Hello Bryan Mariscal, how are you?'"
      ]
     },
     "execution_count": 3,
     "metadata": {},
     "output_type": "execute_result"
    }
   ],
   "source": [
    "def greet_person(first_name: str, last_name: str) -> str:\n",
    "    \"\"\"\n",
    "    Function that returns a greeting by prepending \"Hello\" and appending \", how are you?\" to first_name and last_name\n",
    "    Inputs:\n",
    "       first_name: First name of person to be greeted\n",
    "       last_name:  Last name of person to be greeted\n",
    "    Outputs:\n",
    "       String containing the greeting\n",
    "    \"\"\"\n",
    "    return f\"Hello {first_name} {last_name}, how are you?\"\n",
    "\n",
    "\n",
    "greet_person(\"Bryan\", \"Mariscal\")"
   ]
  },
  {
   "cell_type": "code",
   "execution_count": 4,
   "metadata": {},
   "outputs": [
    {
     "name": "stdout",
     "output_type": "stream",
     "text": [
      "Help on function greet_person in module __main__:\n",
      "\n",
      "greet_person(first_name: str, last_name: str) -> str\n",
      "    Function that returns a greeting by prepending \"Hello\" and appending \", how are you?\" to first_name and last_name\n",
      "    Inputs:\n",
      "       first_name: First name of person to be greeted\n",
      "       last_name:  Last name of person to be greeted\n",
      "    Outputs:\n",
      "       String containing the greeting\n",
      "\n"
     ]
    }
   ],
   "source": [
    "help(greet_person)"
   ]
  },
  {
   "cell_type": "code",
   "execution_count": null,
   "metadata": {},
   "outputs": [],
   "source": []
  }
 ],
 "metadata": {
  "kernelspec": {
   "display_name": "Python 3",
   "language": "python",
   "name": "python3"
  },
  "language_info": {
   "codemirror_mode": {
    "name": "ipython",
    "version": 3
   },
   "file_extension": ".py",
   "mimetype": "text/x-python",
   "name": "python",
   "nbconvert_exporter": "python",
   "pygments_lexer": "ipython3",
   "version": "3.11.4"
  }
 },
 "nbformat": 4,
 "nbformat_minor": 4
}
