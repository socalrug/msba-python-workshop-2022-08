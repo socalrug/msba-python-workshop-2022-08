{
 "cells": [
  {
   "cell_type": "markdown",
   "metadata": {},
   "source": [
    "# What is a Jupyter notebook, and why are they useful?\n"
   ]
  },
  {
   "cell_type": "markdown",
   "metadata": {},
   "source": [
    "A Jupyter notebook is an interactive computing environment that \"allows you to create and share documents that contain live code, equations, visualizations, and narrative text. Uses include data cleaning and transformation, numerical simulation, statistical modeling, data visualization, machine learning, and much more.\" They also provide a \"sandbox\" for analysts and/or code developers to explore data and prototype their code.\n"
   ]
  },
  {
   "cell_type": "markdown",
   "metadata": {},
   "source": [
    "# How do we create a Jupyter Notebook?\n"
   ]
  },
  {
   "cell_type": "markdown",
   "metadata": {},
   "source": [
    "## There are a few ways:\n",
    "\n",
    "1. Classical Jupyter Notebook interface: from a terminal, type \"jupyter notebook\"\n",
    "2. \"Next generation\" Jupyter notebook interface known as Jupyterlab: from a terminal, type \"jupyter lab\"\n",
    "3. From within VS Code, Cntrl+Shift+P (Windows) or Cmd+Shift+p (Mac) --> Create: New Jupyter Notebook\n",
    "\n",
    "This course will use the VS Codde implementation of Jupyter notebooks\n"
   ]
  },
  {
   "cell_type": "markdown",
   "metadata": {},
   "source": [
    "# Working with cells\n"
   ]
  },
  {
   "cell_type": "markdown",
   "metadata": {},
   "source": [
    "## Cells 101\n"
   ]
  },
  {
   "cell_type": "markdown",
   "metadata": {},
   "source": [
    "A cell is a multi-line text input field whose execution behavior is determined by the cell type (Markdown or Python). Markdown is a lightweight text formatting language that is frequently used to format text in documents. See here for a brief tutorial (https://www.markdownguide.org/cheat-sheet/).\n",
    "To create a new cell, simply hover above or below an existing cell, and click the + button for the desired cell type. Or, from the toolbar, hit the + button for a \"Code\" or \"Markdown\" cell. To delete a cell, simply hover over the cell and hit the \"Trash\" button. To execute a cell, hover over the cell and hit the \"Play Button\", or shift+enter while having that cell active.\n"
   ]
  },
  {
   "cell_type": "code",
   "execution_count": null,
   "metadata": {},
   "outputs": [],
   "source": [
    "print(\"hello world\")"
   ]
  },
  {
   "cell_type": "markdown",
   "metadata": {},
   "source": [
    "When executing a Python cell for the first time, VS Code will ask you to \"Select a Kernel\". This is VS Code basically asking us to point VS Code to the Python interpreter installed on our machine. Select the version that is installed on your machine.\n"
   ]
  },
  {
   "cell_type": "markdown",
   "metadata": {},
   "source": [
    "It should be noted that VS Code is not the only way to execute Python. It can also be executed from a terminal. Bring up a terminal and type \"python\". You can also \"call\" or (run) a python file by typing \"python name_of_file\" in the terminal.\n"
   ]
  },
  {
   "cell_type": "markdown",
   "metadata": {},
   "source": [
    "# Tips and Best Practices\n"
   ]
  },
  {
   "cell_type": "markdown",
   "metadata": {},
   "source": [
    "1. Keep your notebooks organized by utilizing markdown headings\n",
    "2. Use notebooks as \"sandboxes\" to explore data and develop code\n",
    "3. Use notebooks to develop \"working\" level reports that show visualizations, analysis results, or code. Notebooks can be saved as html files that can be viewed in a web browser, rendering shareability extremely convenient.\n",
    "4. Generally speaking, it is not recommended to use Jupyter Notebook in \"production\" environments. Instead, relevant code should be modularized and ported to scripts that are then called.\n"
   ]
  }
 ],
 "metadata": {
  "kernelspec": {
   "display_name": "Python 3",
   "language": "python",
   "name": "python3"
  },
  "language_info": {
   "codemirror_mode": {
    "name": "ipython",
    "version": 3
   },
   "file_extension": ".py",
   "mimetype": "text/x-python",
   "name": "python",
   "nbconvert_exporter": "python",
   "pygments_lexer": "ipython3",
   "version": "3.9.6"
  },
  "orig_nbformat": 4
 },
 "nbformat": 4,
 "nbformat_minor": 2
}
